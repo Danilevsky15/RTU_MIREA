{
  "nbformat": 4,
  "nbformat_minor": 0,
  "metadata": {
    "colab": {
      "provenance": []
    },
    "kernelspec": {
      "name": "python3",
      "display_name": "Python 3"
    },
    "language_info": {
      "name": "python"
    }
  },
  "cells": [
    {
      "cell_type": "markdown",
      "source": [
        "Используемые библиотеки"
      ],
      "metadata": {
        "id": "QWaYJFvFOq-E"
      }
    },
    {
      "cell_type": "code",
      "source": [
        "import math\n",
        "import math as m\n",
        "import numpy as np\n",
        "import matplotlib.pyplot as plt"
      ],
      "metadata": {
        "id": "1RlX4uHTOoTd"
      },
      "execution_count": null,
      "outputs": []
    },
    {
      "cell_type": "markdown",
      "source": [
        "Фукнции для проверки вводимых пользователем значений"
      ],
      "metadata": {
        "id": "UFckbvD4OKXS"
      }
    },
    {
      "cell_type": "code",
      "source": [
        "def check_variable_int_float(variable):\n",
        "    # функция - которая проверяет - является ли переменная целым или числом\n",
        "    # с плавающей точкой(дробным числом)и предоставляет пользователю возможность\n",
        "    # вводить значение переменной до тех пор - пока не будет введен верный тип\n",
        "    while True:\n",
        "        try:\n",
        "            variable = float(variable)  # преобразуем введенное значение в число\n",
        "            return variable  # возвращаем значение - если успешно преобразовалось\n",
        "        except ValueError:\n",
        "            print(\"error/ required type - integer/float \\n\")\n",
        "            variable = input(\"try entering again: \")  # запрашиваем ввод снова\n",
        "\n",
        "def check_variable_str(variable):\n",
        "    while True:\n",
        "        try:\n",
        "            variable = str(variable)\n",
        "            return variable\n",
        "        except ValueError:\n",
        "            print(\"error. required type - string \\n\")\n",
        "            variable = input(\"try entering again: \")"
      ],
      "metadata": {
        "id": "HJfHo86WOJ6P"
      },
      "execution_count": null,
      "outputs": []
    },
    {
      "cell_type": "markdown",
      "source": [
        "Задание 1.3.\n",
        "Выведите на печать и определите тип переменной."
      ],
      "metadata": {
        "id": "tPsdBDvyNnXq"
      }
    },
    {
      "cell_type": "code",
      "source": [
        "\n",
        "def task_1_3():\n",
        "    x = 5 >= 2\n",
        "    A = {1, 3, 7, 8}\n",
        "    B = {2, 4, 5, 10, 'apple'}\n",
        "    C = A & B\n",
        "    df = 'Антоновна Антонина', 34, 'ж'\n",
        "    z = 'type'\n",
        "    D = [1, 'title', 2, 'content']\n",
        "\n",
        "    print(x, '|', type(x), '\\n', A, '|', type(A), '\\n', B, '|', type(B), '\\n', C, '|', type(C), '\\n', df, '|', type(df),\n",
        "          '\\n', z, '|', type(z), '\\n', D, '|', type(D))"
      ],
      "metadata": {
        "id": "dBROBffbNoR8"
      },
      "execution_count": null,
      "outputs": []
    },
    {
      "cell_type": "markdown",
      "source": [
        "Задание 2.3.\n",
        " Напишите код. Задается х, напечатать какому из интервалов\n",
        "принадлежит: (-infinity, -5), [-5, 5] или от (5, +infinity)"
      ],
      "metadata": {
        "id": "QXmEWPu6OGQq"
      }
    },
    {
      "cell_type": "code",
      "source": [
        "def task_2_3():\n",
        "    variable = input(\"enter x: \")\n",
        "    x = check_variable_int_float(variable)\n",
        "\n",
        "    if x < -5:\n",
        "        print('(-infinity, -5)')\n",
        "    elif -5 <= x <= 5:\n",
        "        print('[-5, 5]')\n",
        "    else:\n",
        "        print('(5, +infinity)')"
      ],
      "metadata": {
        "id": "9ERVGLmXPGwU"
      },
      "execution_count": null,
      "outputs": []
    },
    {
      "cell_type": "markdown",
      "source": [
        "Задание 3.3.1\n",
        "Выведите числа из примера на while (3.2.1) в обратном порядке."
      ],
      "metadata": {
        "id": "LoKnoFVaPOl1"
      }
    },
    {
      "cell_type": "code",
      "source": [
        "def task_3_3_1():\n",
        "    variable = input(\"enter x: \")\n",
        "    x = check_variable_int_float(variable)\n",
        "\n",
        "    while x >= 1:\n",
        "        print(x)\n",
        "        x -= 3"
      ],
      "metadata": {
        "id": "7SHQR_eIPO5w"
      },
      "execution_count": null,
      "outputs": []
    },
    {
      "cell_type": "markdown",
      "source": [
        "Задание 3.3.2\n",
        "При решении задач машинного обучения часто в качестве объектов\n",
        "исследования выступает человек. Создайте список значимых\n",
        "характеристик (признаков), идентифицирующих человека. Выведите\n",
        "список на экран."
      ],
      "metadata": {
        "id": "iQXI74UwPXMl"
      }
    },
    {
      "cell_type": "code",
      "source": [
        "def task_3_3_2():\n",
        "    features = [\n",
        "        \"Возраст\",\n",
        "        \"Пол\",\n",
        "        \"Рост\",\n",
        "        \"Вес\",\n",
        "        \"Группа крови\",\n",
        "        \"Этническая принадлежность\",\n",
        "        \"Образование\",\n",
        "        \"Профессия\",\n",
        "        \"Семейное положение\",\n",
        "        \"Доход\"\n",
        "    ]\n",
        "\n",
        "    for feature in features:\n",
        "        print(feature)"
      ],
      "metadata": {
        "id": "u_h_iAmMPX3J"
      },
      "execution_count": null,
      "outputs": []
    },
    {
      "cell_type": "markdown",
      "source": [
        "Задание 3.3.3\n",
        "Создать список чисел от 2 до 15 с шагом 1."
      ],
      "metadata": {
        "id": "wuweBmWiPfT8"
      }
    },
    {
      "cell_type": "code",
      "source": [
        "def task_3_3_3():\n",
        "    numbers = list(range(2, 16))\n",
        "    print(numbers)"
      ],
      "metadata": {
        "id": "Ao-8TP2JPfvo"
      },
      "execution_count": null,
      "outputs": []
    },
    {
      "cell_type": "markdown",
      "source": [
        "Задание 3-3-4\n",
        " Выведите числа из примера на for c функцией range() (3.2.4) в\n",
        "обратном порядке."
      ],
      "metadata": {
        "id": "rv02YYcZPmTN"
      }
    },
    {
      "cell_type": "code",
      "source": [
        "def task_3_3_4():\n",
        "    for i in range(105, 5, -25):\n",
        "        print(i)"
      ],
      "metadata": {
        "id": "mbibL7FzPm1r"
      },
      "execution_count": null,
      "outputs": []
    },
    {
      "cell_type": "markdown",
      "source": [
        "Задание 3-3-5\n",
        "Срез. Напишите код, который все элементы массива x с четными\n",
        "индексами переставит в обратном порядке. Т.е. если x = [0, 1, 2, 3, 4,\n",
        "5, 6, 7, 8, 9], то код должен сформировать [8, 1, 6, 3, 4, 5, 2, 7, 0, 9]."
      ],
      "metadata": {
        "id": "mHbBhwcEPu8t"
      }
    },
    {
      "cell_type": "code",
      "source": [
        "def task_3_3_5():\n",
        "    x = [0, 1, 2, 3, 4, 5, 6, 7, 8, 9]\n",
        "\n",
        "    even_indices_slice = x[2:9:2]  # 2 - начальный индекс, 9 - конечный индекс (не включая), 2 - шаг\n",
        "    even_indices_slice.reverse()\n",
        "    x[2:9:2] = even_indices_slice  # заменяем часть списка перевернутым срезом\n",
        "    print(x)\n"
      ],
      "metadata": {
        "id": "DgEiAL4ZPuo_"
      },
      "execution_count": null,
      "outputs": []
    },
    {
      "cell_type": "markdown",
      "source": [
        "Задание 4-3-1\n",
        "Задайте массив случайных значений из интервала(0; 1).\n",
        "Рассчитайте средние и медианные значения для массива, сравните\n",
        "результаты, какие выводы можно сделать о значениях?\n",
        "Постройте точечную диаграмму рассения полученного ряда."
      ],
      "metadata": {
        "id": "CrAEzNcJP2w_"
      }
    },
    {
      "cell_type": "code",
      "source": [
        "def task_4_3_1():\n",
        "    np.random.seed(42)  # чтобы результат был воспроизводимым\n",
        "    data = np.random.rand(100)\n",
        "\n",
        "    # рассчитываем среднее значение\n",
        "    mean_value = np.mean(data)\n",
        "\n",
        "    # рассчитываем медиану\n",
        "    median_value = np.median(data)\n",
        "\n",
        "    print(\"среднее значение:\", mean_value)\n",
        "    print(\"медиана:\", median_value)\n",
        "\n",
        "    # строим точечную диаграмму рассеяния\n",
        "    plt.figure(figsize=(8, 6))\n",
        "    plt.scatter(range(len(data)), data, color='blue', alpha=0.5)\n",
        "    plt.axhline(y=mean_value, color='r', linestyle='-', label='среднее значение')\n",
        "    plt.axhline(y=median_value, color='g', linestyle='--', label='медиана')\n",
        "    plt.xlabel('индекс')\n",
        "    plt.ylabel('значение')\n",
        "    plt.title('точечная диаграмма рассеяния')\n",
        "    plt.legend()\n",
        "    plt.grid(True)\n",
        "    plt.show()"
      ],
      "metadata": {
        "id": "qU0f_YJ5P3Js"
      },
      "execution_count": null,
      "outputs": []
    },
    {
      "cell_type": "markdown",
      "source": [
        "Задание 4-3-2\n",
        "Дана функция ; Создать массив из 10 значений\n",
        "функции (𝑥, например, изменяется от 1 до 10). Выделить срез первой\n",
        "половины массива и построить графики для основного массива –\n",
        "линейный и для среза – точечный"
      ],
      "metadata": {
        "id": "cv_fkgTTQABb"
      }
    },
    {
      "cell_type": "code",
      "source": [
        "def task_4_3_2():\n",
        "    # функция\n",
        "    def my_function(x):\n",
        "        return (math.sqrt(1 + math.exp(math.sqrt(x)) + math.cos(x ** 2)) /\n",
        "                abs(1 - math.sin(x) ** 3)) + math.log(abs(2 * x))\n",
        "\n",
        "    # создаем массив x от 1 до 10\n",
        "    x = np.linspace(1, 10, 10)\n",
        "\n",
        "    # вычисляем значения функции для массива x\n",
        "    y = np.array([my_function(val) for val in x])\n",
        "\n",
        "    # выделение среза первой половины массива\n",
        "    x_slice = x[:5]\n",
        "    y_slice = y[:5]\n",
        "\n",
        "    # построение графика для основного массива (линейный)\n",
        "    plt.figure(figsize=(10, 5))\n",
        "    plt.plot(x, y, label='основной массив', color='blue')\n",
        "    plt.xlabel('x')\n",
        "    plt.ylabel('y')\n",
        "    plt.title('график функции')\n",
        "    plt.grid(True)\n",
        "    plt.legend()\n",
        "    plt.show()\n",
        "\n",
        "    # построение графика для среза (точечный)\n",
        "    plt.figure(figsize=(10, 5))\n",
        "    plt.scatter(x_slice, y_slice, label='Срез', color='red')\n",
        "    plt.xlabel('x')\n",
        "    plt.ylabel('y')\n",
        "    plt.title('график среза первой половины массива')\n",
        "    plt.grid(True)\n",
        "    plt.legend()\n",
        "    plt.show()\n"
      ],
      "metadata": {
        "id": "NNCk6gl-QAe6"
      },
      "execution_count": null,
      "outputs": []
    },
    {
      "cell_type": "markdown",
      "source": [
        "Задание 4-3-3\n",
        "Дана функция |cos(𝑥𝑒(cos(𝑥)+ln(𝑥+1)))| Построить график на\n",
        "интервале (0,10) с шагом 1 с заливкой площади и найти эту площадь\n",
        "под ним. Для вычисления площади воспользуйте функции trapz(),\n",
        "вычисляющей интеграл по правилу трапеции."
      ],
      "metadata": {
        "id": "znLrMqcOQKAe"
      }
    },
    {
      "cell_type": "code",
      "source": [
        "def task_4_3_3():\n",
        "    from scipy.integrate import simps  ### scipy.integrate ???\n",
        "    from numpy import trapz\n",
        "    import matplotlib.pyplot as plt\n",
        "\n",
        "    # определяем функцию\n",
        "    def f(x):\n",
        "        return np.abs(np.cos(x * np.exp(np.cos(x) + np.log(x + 1))))\n",
        "\n",
        "    # задаем интервал и шаг\n",
        "    a = 0\n",
        "    b = 10\n",
        "    h = 1\n",
        "\n",
        "    # вычисляем значения функции\n",
        "    x = np.arange(a, b + h, h)\n",
        "    y = f(x)\n",
        "\n",
        "    # вычисляем площадь под кривой\n",
        "    S = trapz(y, x)\n",
        "\n",
        "    # строим график\n",
        "    plt.plot(x, y, color=\"blue\")\n",
        "    plt.fill_between(x, y, 0, color=\"gray\")\n",
        "\n",
        "    # фформляем график\n",
        "    plt.xlabel(\"x\")\n",
        "    plt.ylabel(\"|cos(x * e^(cos(x) + ln(x + 1)))|\")\n",
        "    plt.grid()\n",
        "\n",
        "    # показываем график\n",
        "    plt.show()\n",
        "\n",
        "    # выводим площадь\n",
        "    print(\"Площадь:\", S)\n"
      ],
      "metadata": {
        "id": "AD_VPWeCQJqH"
      },
      "execution_count": null,
      "outputs": []
    },
    {
      "cell_type": "markdown",
      "source": [
        "Задание 4-3-4\n",
        "Откройте статистические данные по стоимости акций Apple,\n",
        "Microsoft, Google за 12 месяцев 2021 г. Постройте 3 графика на\n",
        "плоскости и оцените их динамику. Подумайте, как можно улучшить\n",
        "читаемость результатов.\n",
        "Для начальных данных допустимо использовать следующий ресурс:\n",
        "https://finance.yahoo.com"
      ],
      "metadata": {
        "id": "wsmM2rNwQUVm"
      }
    },
    {
      "cell_type": "code",
      "source": [
        "def task_4_3_4():\n",
        "    import yfinance as yf\n",
        "    import matplotlib.pyplot as plt\n",
        "    import numpy as np\n",
        "\n",
        "    a = yf.download('AAPL', '2021-01-01', '2021-12-31')\n",
        "    b = yf.download('MSFT', '2021-01-01', '2021-12-31')\n",
        "    d = yf.download('GOOG', '2021-01-01', '2021-12-31')\n",
        "\n",
        "    plt.grid(True)\n",
        "    plt.plot(a, color='g')\n",
        "    plt.plot(b, color='b')\n",
        "    plt.plot(d, color='r')\n",
        "    plt.show()"
      ],
      "metadata": {
        "id": "miBEC2H2QT_M"
      },
      "execution_count": null,
      "outputs": []
    },
    {
      "cell_type": "markdown",
      "source": [
        "Задание 4-3-5\n",
        "Создайте простейший калькулятор, включающий основные действия\n",
        "для двух переменных\n",
        "′ ÷ ′, а также вычисление\n",
        "следующих функций: 𝑒𝑥+𝑦\n",
        ", sin(𝑥 + 𝑦) , cos(𝑥 + 𝑦) , 𝑥𝑦\n",
        "."
      ],
      "metadata": {
        "id": "B4FZBv5FQvWr"
      }
    },
    {
      "cell_type": "code",
      "source": [
        "def task_4_3_5():\n",
        "    import math\n",
        "\n",
        "    def add(x, y):\n",
        "        return x + y\n",
        "\n",
        "    def subtract(x, y):\n",
        "        return x - y\n",
        "\n",
        "    def multiply(x, y):\n",
        "        return x * y\n",
        "\n",
        "    def divide(x, y):\n",
        "        if y == 0:\n",
        "            return \"error\\n\"\n",
        "        else:\n",
        "            return x / y\n",
        "\n",
        "    def exponential(x, y):\n",
        "        return math.exp(x + y)\n",
        "\n",
        "    def sine(x, y):\n",
        "        return math.sin(x + y)\n",
        "\n",
        "    def cosine(x, y):\n",
        "        return math.cos(x + y)\n",
        "\n",
        "    def power(x, y):\n",
        "        return x ** y\n",
        "\n",
        "    print(\"select operation:\")\n",
        "    print(\"1. addition +\")\n",
        "    print(\"2. subtraction -\")\n",
        "    print(\"3. multiplication *\")\n",
        "    print(\"4. division /\")\n",
        "    print(\"5. exponential function (e**(x+y))\")\n",
        "    print(\"6. sine (sin(x + y))\")\n",
        "    print(\"7. cosine (cos(x + y))\")\n",
        "    print(\"8. exponentiation (x**y)\")\n",
        "\n",
        "    def check_variable_int_float(var):\n",
        "        try:\n",
        "            return int(var)\n",
        "        except ValueError:\n",
        "            try:\n",
        "                return float(var)\n",
        "            except ValueError:\n",
        "                return None\n",
        "\n",
        "    variable = input(\"enter transaction number (1/ 2/ 3/ 4/ 5/ 6/ 7/ 8): \")\n",
        "    choice = check_variable_int_float(variable)\n",
        "\n",
        "    if choice in (1, 2, 3, 4, 8):\n",
        "        num1 = input(\"enter first number: \")\n",
        "        num1 = check_variable_int_float(num1)\n",
        "        num2 = input(\"enter second number: \")\n",
        "        num2 = check_variable_int_float(num2)\n",
        "\n",
        "        if choice == 1:\n",
        "            print(\"result:\", add(num1, num2))\n",
        "        elif choice == 2:\n",
        "            print(\"result: \", subtract(num1, num2))\n",
        "        elif choice == 3:\n",
        "            print(\"result: \", multiply(num1, num2))\n",
        "        elif choice == 4:\n",
        "            print(\"result: \", divide(num1, num2))\n",
        "        elif choice == 8:\n",
        "            print(\"result: \", power(num1, num2))\n",
        "    else:\n",
        "        num = input(\"enter number: \")\n",
        "        num = check_variable_int_float(num)\n",
        "\n",
        "        if choice == 5:\n",
        "            print(\"result: \", exponential(num, num))\n",
        "        elif choice == 6:\n",
        "            print(\"result: \", sine(num, num))\n",
        "        elif choice == 7:\n",
        "            print(\"result: \", cosine(num, num))\n"
      ],
      "metadata": {
        "id": "12p_aEoBQvws"
      },
      "execution_count": null,
      "outputs": []
    },
    {
      "cell_type": "markdown",
      "source": [
        "функция main() - вызов в компилятор\n",
        "функция - Лаунчер"
      ],
      "metadata": {
        "id": "v_MS28grQ8CR"
      }
    },
    {
      "cell_type": "code",
      "source": [
        "def main():\n",
        "    while True:\n",
        "        print(\"\\nselect a task to open:\")\n",
        "        print(\"1 = task 1.3\")\n",
        "        print(\"2 = task 2.3\")\n",
        "        print(\"3 = task 3.3.1\")\n",
        "        print(\"4 = task 3.3.2\")\n",
        "        print(\"5 = task 3.3.3\")\n",
        "        print(\"6 = task 3.3.4\")\n",
        "        print(\"7 = task 3.3.5\")\n",
        "        print(\"8 = task 4.3.1\")\n",
        "        print(\"9 = task 4.3.2\")\n",
        "        print(\"10 = task 4.3.3\")\n",
        "        print(\"11 = task 4.3.4\")\n",
        "        print(\"12 = task 4.3.5\")\n",
        "        print(\"no task - if you want to exit, enter 'exit'\\n\\n\")\n",
        "\n",
        "        choice = input(\"enter your choice: \")\n",
        "\n",
        "        if choice == '1':\n",
        "            task_1_3()\n",
        "        elif choice == '2':\n",
        "            task_2_3()\n",
        "        elif choice == '3':\n",
        "            task_3_3_1()\n",
        "        elif choice == '4':\n",
        "            task_3_3_2()\n",
        "        elif choice == '5':\n",
        "            task_3_3_3()\n",
        "        elif choice == '6':\n",
        "            task_3_3_4()\n",
        "        elif choice == '7':\n",
        "            task_3_3_5()\n",
        "        elif choice == '8':\n",
        "            task_4_3_1()\n",
        "        elif choice == '9':\n",
        "            task_4_3_2()\n",
        "        elif choice == '10':\n",
        "            task_4_3_3()\n",
        "        elif choice == '11':\n",
        "            task_4_3_4()\n",
        "        elif choice == '12':\n",
        "            task_4_3_5()\n",
        "\n",
        "        elif choice == 'exit':\n",
        "            print(\"oh, okay:(\")\n",
        "            break\n",
        "        else:\n",
        "            print(\"invalid choice. please enter a valid option\")\n",
        "\n",
        "\n",
        "if __name__ == \"__main__\":\n",
        "    main()"
      ],
      "metadata": {
        "id": "O5LGLU8DQ7CE"
      },
      "execution_count": null,
      "outputs": []
    }
  ]
}
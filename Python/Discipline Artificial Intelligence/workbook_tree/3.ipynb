{
  "nbformat": 4,
  "nbformat_minor": 0,
  "metadata": {
    "colab": {
      "provenance": []
    },
    "kernelspec": {
      "name": "python3",
      "display_name": "Python 3"
    },
    "language_info": {
      "name": "python"
    }
  },
  "cells": [
    {
      "cell_type": "markdown",
      "source": [
        "Используемые библиотеки\n"
      ],
      "metadata": {
        "id": "JzzG7fsqUMZ1"
      }
    },
    {
      "cell_type": "code",
      "execution_count": null,
      "metadata": {
        "id": "4dECGhFcUI1S"
      },
      "outputs": [],
      "source": [
        "import matplotlib.pyplot as plt\n",
        "import numpy as np\n",
        "from numpy import *\n",
        "from mpl_toolkits.mplot3d import Axes3D\n",
        "import seaborn as sns\n",
        "from sklearn.model_selection import train_test_split\n",
        "from sklearn.metrics import accuracy_score\n",
        "from sklearn.neighbors import KNeighborsClassifier"
      ]
    },
    {
      "cell_type": "markdown",
      "source": [
        "Фукнции для проверки вводимых пользователем значений\n"
      ],
      "metadata": {
        "id": "tUB09lNQUNVU"
      }
    },
    {
      "cell_type": "code",
      "source": [
        "def check_variable_int_float(variable):\n",
        "    # функция - которая проверяет - является ли переменная целым или числом\n",
        "    # с плавающей точкой(дробным числом)и предоставляет пользователю возможность\n",
        "    # вводить значение переменной до тех пор - пока не будет введен верный тип\n",
        "    while True:\n",
        "        try:\n",
        "            variable = float(variable)  # преобразуем введенное значение в число\n",
        "            return variable  # возвращаем значение - если успешно преобразовалось\n",
        "        except ValueError:\n",
        "            print(\"error/ required type - integer/float \\n\")\n",
        "            variable = input(\"try entering again: \")  # запрашиваем ввод снова\n",
        "\n",
        "def check_variable_str(variable):\n",
        "    while True:\n",
        "        try:\n",
        "            variable = str(variable)\n",
        "            return variable\n",
        "        except ValueError:\n",
        "            print(\"error. required type - string \\n\")\n",
        "            variable = input(\"try entering again: \")"
      ],
      "metadata": {
        "id": "avTnIIZrUN9O"
      },
      "execution_count": null,
      "outputs": []
    },
    {
      "cell_type": "markdown",
      "source": [
        "Задание 1-3-1\n",
        "Задайте 4 точки в трехмерном пространстве, рассчитайте между ними\n",
        "расстояния по описанным в примере выше метрикам. Отобразите точки\n",
        "в трехмерном пространстве."
      ],
      "metadata": {
        "id": "86KDXkSsUgdO"
      }
    },
    {
      "cell_type": "code",
      "source": [
        "def task_1_3_1():\n",
        "    fig = plt.figure()\n",
        "    ax = fig.add_subplot(111, projection=\"3d\")\n",
        "\n",
        "    ax.scatter(1, 1, 1)\n",
        "    ax.scatter(2, 2, 2)\n",
        "    ax.scatter(4, 3, 5)\n",
        "    ax.scatter(3, 2, 1)\n",
        "\n",
        "    x = np.array([1, 1, 1])\n",
        "    y = np.array([2, 2, 2])\n",
        "    c = np.array([4, 3, 5])\n",
        "    v = np.array([3, 2, 1])\n",
        "\n",
        "    print(np.linalg.norm(x-y))\n",
        "    print(np.linalg.norm(y-c) ** 2)\n",
        "    print(np.linalg.norm(c - v, ord=np.inf))\n",
        "    print(np.linalg.norm(v - x, ord=1))\n",
        "    plt.show()"
      ],
      "metadata": {
        "id": "dae5iLRoUgRQ"
      },
      "execution_count": null,
      "outputs": []
    },
    {
      "cell_type": "markdown",
      "source": [
        "Задание 1-3-2\n",
        "Создать 5x5 матрицу со значениями в строках от 0 до 4. Для создания\n",
        "необходимо использовать функцию arange."
      ],
      "metadata": {
        "id": "JMvnyes_UuG_"
      }
    },
    {
      "cell_type": "code",
      "source": [
        "def task_1_3_2():\n",
        "    x = array([arange(5)] * 5)\n",
        "    print(x)"
      ],
      "metadata": {
        "id": "Ef_0YT_JUt6Y"
      },
      "execution_count": null,
      "outputs": []
    },
    {
      "cell_type": "markdown",
      "source": [
        "Задание 2-3-1\n",
        "Для предыдущего примера поэкспериментируйте с параметрами\n",
        "классификатора:\n",
        "1. Установите другое количество ближайших соседей (k = 1, 5, 10).\n",
        "2. Установите размер тестовой выборки 15% от всего датасета.\n",
        "3. Постройте графики и оцените качество моделей, проанализируйте\n",
        "результаты."
      ],
      "metadata": {
        "id": "f9tC_wZmU0pR"
      }
    },
    {
      "cell_type": "code",
      "source": [
        "def task_2_3_1():\n",
        "    iris = sns.load_dataset('iris')\n",
        "\n",
        "    X_train, X_test, y_train, y_test = train_test_split(\n",
        "        iris.iloc[:, :-1],\n",
        "        iris.iloc[:, -1],\n",
        "        test_size=0.15,\n",
        "        random_state=42\n",
        "    )\n",
        "\n",
        "    def init_model(k, X_train, y_train, X_test):\n",
        "        model = KNeighborsClassifier(n_neighbors=k)\n",
        "        model.fit(X_train, y_train)\n",
        "        y_pred = model.predict(X_test)\n",
        "        return y_pred\n",
        "\n",
        "    def graph(y_test, X_test, y_pred):\n",
        "        plt.figure(figsize=(10, 7))\n",
        "        sns.scatterplot(x='petal_width', y='petal_length', data=iris, hue='species', s=70)\n",
        "        plt.xlabel(\"Длина лепестка, см\")\n",
        "        plt.ylabel(\"Ширина лепестка, см\")\n",
        "        plt.legend(loc=2)\n",
        "        plt.grid()\n",
        "\n",
        "        for i in range(len(y_test)):\n",
        "            if np.array(y_test)[i] != y_pred[i]:\n",
        "                plt.scatter(X_test.iloc[i, 3], X_test.iloc[i, 2], color='red', s=150)\n",
        "\n",
        "    def calculate_accuracy(y_pred, y_test):\n",
        "        accuracy = accuracy_score(y_pred, y_test)\n",
        "        print(f'Accuracy: {accuracy:.3}')\n",
        "\n",
        "    k = int(input('Введите значение k (1, 5, или 10): '))\n",
        "\n",
        "    y_pred = init_model(k, X_train, y_train, X_test)\n",
        "\n",
        "    calculate_accuracy(y_pred, y_test)\n",
        "\n",
        "    graph(y_test, X_test, y_pred)\n",
        "    plt.show()\n"
      ],
      "metadata": {
        "id": "bqXKXfpiU0cr"
      },
      "execution_count": null,
      "outputs": []
    },
    {
      "cell_type": "markdown",
      "source": [
        "Задание 3-3-2\n",
        "Определите набор признаков человека, по аналогии из РТ 1, – например,\n",
        "цвет глаз и конвертируйте его в матрицу признаков."
      ],
      "metadata": {
        "id": "j__E2ZubVIjV"
      }
    },
    {
      "cell_type": "code",
      "source": [
        "def task_3_3_2():\n",
        "    from sklearn.feature_extraction import DictVectorizer\n",
        "\n",
        "    x = [{\"Двуногое\": 2, },\n",
        "         {\"без перьев\": 3}]\n",
        "    dictVectorizer = DictVectorizer(sparse=False)\n",
        "    y = dictVectorizer.fit_transform(x)\n",
        "    print(y)\n"
      ],
      "metadata": {
        "id": "Lj2nxEWmVIXX"
      },
      "execution_count": null,
      "outputs": []
    },
    {
      "cell_type": "markdown",
      "source": [
        "функция main() - вызов в компилятор\n",
        "функция - Лаунчер"
      ],
      "metadata": {
        "id": "zT_BU7wlVT8M"
      }
    },
    {
      "cell_type": "code",
      "source": [
        "def main():\n",
        "    while True:\n",
        "        print(\"\\nselect a task to open:\")\n",
        "        print(\"1 = task 1.3.1\")\n",
        "        print(\"2 = task 1.3.2\")\n",
        "        print(\"3 = task 2.3.1\")\n",
        "        print(\"4 = task 3.3.2\")\n",
        "        print(\"no task - if you want to exit, enter 'exit'\\n\\n\")\n",
        "\n",
        "        choice = input(\"enter your choice: \")\n",
        "\n",
        "        if choice == '1':\n",
        "            task_1_3_1()\n",
        "        elif choice == '2':\n",
        "            task_1_3_2()\n",
        "        elif choice == '3':\n",
        "            task_2_3_1()\n",
        "        elif choice == '4':\n",
        "            task_3_3_2()\n",
        "        elif choice == 'exit':\n",
        "            print(\"oh, okay:(\")\n",
        "            break\n",
        "        else:\n",
        "            print(\"invalid choice. please enter a valid option\")\n",
        "\n",
        "if __name__ == \"__main__\":\n",
        "    main()"
      ],
      "metadata": {
        "id": "eMkZ7N8qVP2B"
      },
      "execution_count": null,
      "outputs": []
    }
  ]
}
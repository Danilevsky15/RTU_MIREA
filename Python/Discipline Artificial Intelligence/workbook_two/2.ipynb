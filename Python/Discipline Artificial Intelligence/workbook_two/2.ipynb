{
  "nbformat": 4,
  "nbformat_minor": 0,
  "metadata": {
    "colab": {
      "provenance": []
    },
    "kernelspec": {
      "name": "python3",
      "display_name": "Python 3"
    },
    "language_info": {
      "name": "python"
    }
  },
  "cells": [
    {
      "cell_type": "markdown",
      "source": [
        "Используемые библиотеки"
      ],
      "metadata": {
        "id": "LvRYO1rGSBjN"
      }
    },
    {
      "cell_type": "code",
      "execution_count": null,
      "metadata": {
        "id": "TvJ6XRSLR6fj"
      },
      "outputs": [],
      "source": [
        "import numpy as np\n",
        "import pandas as pd\n",
        "from sklearn.preprocessing import MinMaxScaler, StandardScaler"
      ]
    },
    {
      "cell_type": "markdown",
      "source": [
        "Фукнции для проверки вводимых пользователем значений\n"
      ],
      "metadata": {
        "id": "LNwbJ_dcSKXk"
      }
    },
    {
      "cell_type": "code",
      "source": [
        "def check_variable_int_float(variable):\n",
        "    # функция - которая проверяет - является ли переменная целым или числом\n",
        "    # с плавающей точкой(дробным числом)и предоставляет пользователю возможность\n",
        "    # вводить значение переменной до тех пор - пока не будет введен верный тип\n",
        "    while True:\n",
        "        try:\n",
        "            variable = float(variable)  # преобразуем введенное значение в число\n",
        "            return variable  # возвращаем значение - если успешно преобразовалось\n",
        "        except ValueError:\n",
        "            print(\"error/ required type - integer/float \\n\")\n",
        "            variable = input(\"try entering again: \")  # запрашиваем ввод снова\n",
        "\n",
        "def check_variable_str(variable):\n",
        "    while True:\n",
        "        try:\n",
        "            variable = str(variable)\n",
        "            return variable\n",
        "        except ValueError:\n",
        "            print(\"error. required type - string \\n\")\n",
        "            variable = input(\"try entering again: \")"
      ],
      "metadata": {
        "id": "QDbK7w8BSHGc"
      },
      "execution_count": null,
      "outputs": []
    },
    {
      "cell_type": "markdown",
      "source": [
        "Задание 1-3-1\n",
        "Создать 8x8 матрицу и заполнить её в шахматном порядке нулями и\n",
        "единицами."
      ],
      "metadata": {
        "id": "S_damBaISYkE"
      }
    },
    {
      "cell_type": "code",
      "source": [
        "def task_1_3_1():\n",
        "    matrix = [[0] * 8 for _ in range(8)]\n",
        "    for i in range(8):\n",
        "        for j in range(8):\n",
        "            if (i + j) % 2 == 0:\n",
        "                matrix[i][j] = 1\n",
        "    for row in matrix:\n",
        "        print(row)"
      ],
      "metadata": {
        "id": "owdZvueNSYWv"
      },
      "execution_count": null,
      "outputs": []
    },
    {
      "cell_type": "markdown",
      "source": [
        "Задание 1-3-2\n",
        "Создать 5x5 матрицу со значениями в строках от 0 до 4. Для создания\n",
        "необходимо использовать функцию arrange."
      ],
      "metadata": {
        "id": "LFk-L0vFSm3e"
      }
    },
    {
      "cell_type": "code",
      "source": [
        "def task_1_3_2():\n",
        "    matrix = np.arange(5) + np.arange(5)[:, np.newaxis]\n",
        "    print(matrix)\n"
      ],
      "metadata": {
        "id": "nahIiLl_SmoE"
      },
      "execution_count": null,
      "outputs": []
    },
    {
      "cell_type": "markdown",
      "source": [
        "Задание 1-3-3\n",
        "Создать массив 3x3x3 со случайными значениями."
      ],
      "metadata": {
        "id": "GLgfYUOESufx"
      }
    },
    {
      "cell_type": "code",
      "source": [
        "def task_1_3_3():\n",
        "    array = np.random.rand(3, 3, 3)\n",
        "    print(array)\n"
      ],
      "metadata": {
        "id": "Uyuun8-dSur0"
      },
      "execution_count": null,
      "outputs": []
    },
    {
      "cell_type": "markdown",
      "source": [],
      "metadata": {
        "id": "oowGXJvmSz6y"
      }
    },
    {
      "cell_type": "code",
      "source": [
        "Задание 1-3-4\n",
        "Создать матрицу с 0 внутри, и 1 на границах."
      ],
      "metadata": {
        "id": "Im0PuLnuS0GD"
      },
      "execution_count": null,
      "outputs": []
    },
    {
      "cell_type": "code",
      "source": [
        "def task_1_3_4():\n",
        "    rows, cols = 5, 5\n",
        "    matrix = np.zeros((rows, cols))\n",
        "    matrix[0, :] = 1\n",
        "    matrix[-1, :] = 1\n",
        "    matrix[:, 0] = 1\n",
        "    matrix[:, -1] = 1\n",
        "    print(matrix)\n"
      ],
      "metadata": {
        "id": "WDma63A3S6I2"
      },
      "execution_count": null,
      "outputs": []
    },
    {
      "cell_type": "markdown",
      "source": [
        "Задание 1-3-5\n",
        "Создайте массив и отсортируйте его по убыванию."
      ],
      "metadata": {
        "id": "o2lG89HES927"
      }
    },
    {
      "cell_type": "code",
      "source": [
        "def task_1_3_5():\n",
        "    arr = np.array([3, 1, 5, 2, 4])\n",
        "    arr_sorted = np.sort(arr)[::-1]\n",
        "    print(\"исходный массив:\", arr)\n",
        "    print(\"массив - отсортированный по убыванию:\", arr_sorted)\n"
      ],
      "metadata": {
        "id": "9yao52x4S9pR"
      },
      "execution_count": null,
      "outputs": []
    },
    {
      "cell_type": "markdown",
      "source": [
        "Задание 1-3-6\n",
        "Создайте матрицу, выведите ее форму, размер и размерность."
      ],
      "metadata": {
        "id": "SbP8GkLgTC6S"
      }
    },
    {
      "cell_type": "code",
      "source": [
        "def task_1_3_6():\n",
        "    matrix = np.array([[1, 2, 3],\n",
        "                       [4, 5, 6],\n",
        "                       [7, 8, 9]])\n",
        "    print(\"форма матрицы:\", matrix.shape)\n",
        "    print(\"pазмер матрицы:\", matrix.size)\n",
        "    print(\"pазмерность матрицы:\", matrix.ndim)\n"
      ],
      "metadata": {
        "id": "ubFKY3NiTCvD"
      },
      "execution_count": null,
      "outputs": []
    },
    {
      "cell_type": "markdown",
      "source": [
        "Задание 2-3-1\n",
        "Найдитн евклидово расстояние между двумя Series (точками) a и b, не\n",
        "используя встроенную формулу."
      ],
      "metadata": {
        "id": "KONre-WhTE_V"
      }
    },
    {
      "cell_type": "code",
      "source": [
        "def task_2_3_1():\n",
        "    def euclidean_distance(a, b):\n",
        "        if len(a) != len(b):\n",
        "            raise ValueError(\"error\")\n",
        "        squared_diff = [(a[i] - b[i]) ** 2 for i in range(len(a))]\n",
        "        return np.sqrt(sum(squared_diff))\n",
        "\n",
        "    # пример использования\n",
        "    a = [1, 2, 3]\n",
        "    b = [4, 5, 6]\n",
        "    distance = euclidean_distance(a, b)\n",
        "    print(\"euclidean_distance =\", distance)\n"
      ],
      "metadata": {
        "id": "ltFnKrzbTEuk"
      },
      "execution_count": null,
      "outputs": []
    },
    {
      "cell_type": "markdown",
      "source": [
        "Задание 2-3-2\n",
        "Найдите в Интернете ссылку на любой csv файл и сформируйте из него\n",
        "фрейм данных (например, коллекцию фреймов данных можно найти\n",
        "здесь: https://github.com/akmand/datasets)"
      ],
      "metadata": {
        "id": "-CGrekIfTG11"
      }
    },
    {
      "cell_type": "code",
      "source": [
        "def task_2_3_2():\n",
        "    url = \"https://raw.githubusercontent.com/akmand/datasets/master/iris.csv\"\n",
        "    df = pd.read_csv(url)\n",
        "    print(df.head(6))\n"
      ],
      "metadata": {
        "id": "mRvR1whkTGqk"
      },
      "execution_count": null,
      "outputs": []
    },
    {
      "cell_type": "markdown",
      "source": [
        "Задание 2-3-3\n",
        "Проделайте с получившемся из предыдущего задания фреймом данных\n",
        "те же действия, что и в примерах 2.2.5-2.2.7."
      ],
      "metadata": {
        "id": "Aal8xfy0TI9r"
      }
    },
    {
      "cell_type": "code",
      "source": [
        "def task_2_3_3():\n",
        "    url = \"https://raw.githubusercontent.com/akmand/datasets/master/iris.csv\"\n",
        "    df = pd.read_csv(url)\n",
        "    print(df.head(10))\n",
        "    print(df.tail(3))\n",
        "    print(df.shape)\n",
        "    print(df.describe())\n",
        "    print(df.iloc[1:4])\n",
        "    print(df[df['species'] == 'setosa'].head())\n"
      ],
      "metadata": {
        "id": "zzqIAW2RTIwE"
      },
      "execution_count": null,
      "outputs": []
    },
    {
      "cell_type": "markdown",
      "source": [
        "Задание 3-3-2\n",
        "Загрузить фрейм данных по ссылке:\n",
        "https://raw.githubusercontent.com/akmand/datasets/master/iris.csv.\n",
        "Необходимо выполнить нормализацию первого числового признака\n",
        "(sepal_length_cm) с использованием минимаксного преобразования, а\n",
        "второго (sepal_width_cm) с задействованием z-масштабирования."
      ],
      "metadata": {
        "id": "FEVgF8qvTLWN"
      }
    },
    {
      "cell_type": "code",
      "source": [
        "def task_3_3_2():\n",
        "    url = \"https://raw.githubusercontent.com/akmand/datasets/master/iris.csv\"\n",
        "    iris_df = pd.read_csv(url)\n",
        "    print(\"первые несколько строк данных:\")\n",
        "    print(iris_df.head())\n",
        "\n",
        "    min_max_scaler = MinMaxScaler()\n",
        "    iris_df['sepal_length_cm_normalized'] = min_max_scaler.fit_transform(iris_df[['sepal_length_cm']])\n",
        "\n",
        "    standard_scaler = StandardScaler()\n",
        "    iris_df['sepal_width_cm_scaled'] = standard_scaler.fit_transform(iris_df[['sepal_width_cm']])\n",
        "\n",
        "    print(\"\\nнормализованные данные:\")\n",
        "    print(iris_df[['sepal_length_cm_normalized', 'sepal_width_cm_scaled']].head())\n"
      ],
      "metadata": {
        "id": "SQq_ZKJETLJr"
      },
      "execution_count": null,
      "outputs": []
    },
    {
      "cell_type": "markdown",
      "source": [
        "функция main() - вызов в компилятор\n",
        "функция - Лаунчер"
      ],
      "metadata": {
        "id": "f6AMdT6GTOHV"
      }
    },
    {
      "cell_type": "code",
      "source": [
        "def main():\n",
        "    while True:\n",
        "        print(\"\\nselect a task to open:\")\n",
        "        print(\"1 = task 1.3.1\")\n",
        "        print(\"2 = task 1.3.2\")\n",
        "        print(\"3 = task 1.3.3\")\n",
        "        print(\"4 = task 1.3.4\")\n",
        "        print(\"5 = task 1.3.5\")\n",
        "        print(\"6 = task 1.3.6\")\n",
        "        print(\"7 = task 2.3.1\")\n",
        "        print(\"8 = task 2.3.2\")\n",
        "        print(\"9 = task 2.3.3\")\n",
        "        print(\"10 = task 3.3.2\")\n",
        "        print(\"no task - if you want to exit, enter 'exit'\\n\\n\")\n",
        "\n",
        "        choice = input(\"enter your choice: \")\n",
        "\n",
        "        if choice == '1':\n",
        "            task_1_3_1()\n",
        "        elif choice == '2':\n",
        "            task_1_3_2()\n",
        "        elif choice == '3':\n",
        "            task_1_3_3()\n",
        "        elif choice == '4':\n",
        "            task_1_3_4()\n",
        "        elif choice == '5':\n",
        "            task_1_3_5()\n",
        "        elif choice == '6':\n",
        "            task_1_3_6()\n",
        "        elif choice == '7':\n",
        "            task_2_3_1()\n",
        "        elif choice == '8':\n",
        "            task_2_3_2()\n",
        "        elif choice == '9':\n",
        "            task_2_3_3()\n",
        "        elif choice == '10':\n",
        "            task_3_3_2()\n",
        "        elif choice == 'exit':\n",
        "            print(\"oh, okay:(\")\n",
        "            break\n",
        "        else:\n",
        "            print(\"invalid choice. please enter a valid option\")\n",
        "\n",
        "if __name__ == \"__main__\":\n",
        "    main()"
      ],
      "metadata": {
        "id": "5ekpg7i1TN7p"
      },
      "execution_count": null,
      "outputs": []
    }
  ]
}